{
 "cells": [
  {
   "cell_type": "markdown",
   "metadata": {},
   "source": [
    "# Coordsys : a 3D coordinate system library\n",
    "\n",
    "A Python package for quaternion-based coordinate frame operations. Supports Quantities package.\n",
    "\n",
    "## Installation\n",
    "\n",
    "```bash\n",
    "pip install -e .\n",
    "```\n",
    "\n",
    "## Usage"
   ]
  },
  {
   "cell_type": "code",
   "execution_count": 1,
   "metadata": {},
   "outputs": [],
   "source": [
    "from coordsys import CoordinateSystem\n",
    "import quantities as pq\n",
    "import numpy as np\n",
    "import matplotlib.pyplot as plt\n",
    "import pyvista as pv"
   ]
  },
  {
   "cell_type": "code",
   "execution_count": 2,
   "metadata": {},
   "outputs": [],
   "source": [
    "plotter = pv.Plotter()\n",
    "\n",
    "# Create a random point cloud\n",
    "N = 100\n",
    "points = np.random.rand(N, 3)\n",
    "\n",
    "# Create a reference coordinate system\n",
    "Reference = CoordinateSystem()\n",
    "\n",
    "# Create a main coordinate system\n",
    "Main = CoordinateSystem()\n",
    "\n",
    "# Create a child coordinate system\n",
    "Child = Main.add_child(label='Child') # Add a child coordinate system to the main one\n",
    "Child.add_points(points)\n",
    "Child.translate([2, 2, 0]*pq.m)\n",
    "Child.rotate_euler_local([0, 1, 1], 30*pq.deg)\n",
    "\n",
    "Main.scale(3, inherit=False) # Scale the main coordinate system, but not its children\n",
    "Main.rotate_euler_local([1, 0, 0], 30*pq.deg, inherit=True)\n",
    "\n",
    "Reference.visualize(plotter=plotter, inherit=False, cmap='gray')\n",
    "Main.visualize(plotter=plotter, inherit=False, cmap='plasma')\n",
    "Child.visualize(plotter=plotter, inherit=False, cmap='viridis')\n",
    "\n",
    "plotter.save_graphic('assets/coordsys.svg')"
   ]
  },
  {
   "cell_type": "markdown",
   "metadata": {},
   "source": [
    "![example](assets/coordsys.svg)"
   ]
  },
  {
   "cell_type": "markdown",
   "metadata": {},
   "source": []
  }
 ],
 "metadata": {
  "kernelspec": {
   "display_name": "general",
   "language": "python",
   "name": "python3"
  },
  "language_info": {
   "codemirror_mode": {
    "name": "ipython",
    "version": 3
   },
   "file_extension": ".py",
   "mimetype": "text/x-python",
   "name": "python",
   "nbconvert_exporter": "python",
   "pygments_lexer": "ipython3",
   "version": "3.12.3"
  }
 },
 "nbformat": 4,
 "nbformat_minor": 4
}
