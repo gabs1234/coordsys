{
 "cells": [
  {
   "cell_type": "markdown",
   "metadata": {},
   "source": [
    "# Coordsys : a 3D coordinate system library\n",
    "\n",
    "A Python package for quaternion-based coordinate frame operations. Supports Quantities package.\n",
    "\n",
    "## Installation\n",
    "\n",
    "```bash\n",
    "pip install -e .\n",
    "```\n",
    "\n",
    "## Usage"
   ]
  },
  {
   "cell_type": "code",
   "execution_count": 11,
   "metadata": {},
   "outputs": [],
   "source": [
    "from coordsys import CoordinateSystem\n",
    "import quantities as pq\n",
    "import numpy as np\n",
    "import matplotlib.pyplot as plt\n",
    "import pyvista as pv\n",
    "\n",
    "plotter = pv.Plotter()"
   ]
  },
  {
   "cell_type": "code",
   "execution_count": 23,
   "metadata": {},
   "outputs": [],
   "source": [
    "Main = CoordinateSystem()\n",
    "pl1 = Main.visualize(inherit=False)\n",
    "pl1.save_graphic('Main.svg')\n",
    "\n",
    "Child = Main.add_child(label='Child') # Add a child coordinate system to the main one\n",
    "Child.translate([2, 0, 0]*pq.m)\n",
    "Child.rotate_euler_local([1, 1, 1], 30*pq.deg)\n",
    "pl2 = Child.visualize(inherit=True, cmap='grey')\n",
    "pl2.save_graphic('Child.svg')\n",
    "\n",
    "Main.scale([1, 2, 2]*pq.m, inherit=False) # Scale the main coordinate system, but not its children\n",
    "pl3 = Main.visualize(inherit=False)\n",
    "Child.visualize(pl3, inherit=False, cmap='magma')\n",
    "pl3.save_graphic('Both.svg')\n"
   ]
  },
  {
   "cell_type": "markdown",
   "metadata": {},
   "source": [
    "![Parent coordinate system](assets/Main.svg)\n",
    "![Child coordinate system](assets/Child.svg)\n",
    "![Both](assets/Both.svg)"
   ]
  },
  {
   "cell_type": "markdown",
   "metadata": {},
   "source": []
  }
 ],
 "metadata": {
  "kernelspec": {
   "display_name": "general",
   "language": "python",
   "name": "python3"
  },
  "language_info": {
   "codemirror_mode": {
    "name": "ipython",
    "version": 3
   },
   "file_extension": ".py",
   "mimetype": "text/x-python",
   "name": "python",
   "nbconvert_exporter": "python",
   "pygments_lexer": "ipython3",
   "version": "3.12.3"
  }
 },
 "nbformat": 4,
 "nbformat_minor": 4
}
